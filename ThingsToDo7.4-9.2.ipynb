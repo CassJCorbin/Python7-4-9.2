{
 "cells": [
  {
   "cell_type": "code",
   "execution_count": null,
   "id": "c5ce97a4-8bab-4700-96bd-0e9637e61691",
   "metadata": {},
   "outputs": [],
   "source": [
    "#Cassandra Corbin\n",
    "#April 8, 2024\n",
    "#Things To Do Assignment: 7.4 - 9.2"
   ]
  },
  {
   "cell_type": "code",
   "execution_count": 2,
   "id": "6a93af5a-f5ec-4833-9086-aa303945231f",
   "metadata": {},
   "outputs": [
    {
     "name": "stdout",
     "output_type": "stream",
     "text": [
      "['mozzarella', 'Cinderella ', 'salmonella ']\n"
     ]
    }
   ],
   "source": [
    "#7.4-7.7\n",
    "thing=[\"mozzarella\", \"cinderella \", \"salmonella \"]  #assign variables\n",
    "thing[1]=thing[1].capitalize()   #Captitalize second variable 1st letter\n",
    "print(thing) #Print"
   ]
  },
  {
   "cell_type": "code",
   "execution_count": 3,
   "id": "6102da31-d524-47ce-9f87-695a145c8258",
   "metadata": {},
   "outputs": [
    {
     "name": "stdout",
     "output_type": "stream",
     "text": [
      "['MOZZARELLA', 'Cinderella ', 'salmonella ']\n"
     ]
    }
   ],
   "source": [
    "thing[0]=thing[0].upper() #Make first variable all uppercase\n",
    "print(thing) #Print"
   ]
  },
  {
   "cell_type": "code",
   "execution_count": 4,
   "id": "e3808d19-edac-4ee8-9652-eb91b118c764",
   "metadata": {},
   "outputs": [
    {
     "name": "stdout",
     "output_type": "stream",
     "text": [
      "['MOZZARELLA', 'Cinderella ']\n"
     ]
    }
   ],
   "source": [
    "thing.remove(thing[2]) #Removes third variable\n",
    "print(thing) #Print"
   ]
  },
  {
   "cell_type": "code",
   "execution_count": 6,
   "id": "28fe07fe-b91b-4465-8c16-6ae9b7991339",
   "metadata": {},
   "outputs": [
    {
     "name": "stdout",
     "output_type": "stream",
     "text": [
      "['MOZZARELLA', 'Cinderella ', 'Noble Prize']\n"
     ]
    }
   ],
   "source": [
    "thing.append(\"Noble Prize\")  #Adds variable\n",
    "print(thing) #Print"
   ]
  },
  {
   "cell_type": "code",
   "execution_count": 17,
   "id": "099aebc7-0f2f-467e-b4d9-a5cbca347eb5",
   "metadata": {},
   "outputs": [],
   "source": [
    "#9.1-9.2\n",
    "def good(): #Defines list\n",
    "    return ['Harry', 'Ron', 'Hermione'] #List\n",
    "\n"
   ]
  },
  {
   "cell_type": "code",
   "execution_count": 14,
   "id": "6c970c99-cd6f-4f50-a3de-48d2d5f326a1",
   "metadata": {},
   "outputs": [
    {
     "name": "stdout",
     "output_type": "stream",
     "text": [
      "5\n"
     ]
    }
   ],
   "source": [
    "def get_odds():  #Define odds\n",
    "    for num in range(10):\n",
    "        if num % 2 != 0:\n",
    "            yield num\n",
    "\n",
    "# function \n",
    "count = 0\n",
    "for num in get_odds():\n",
    "    if count == 2:\n",
    "        print(num)  #Prints function\n",
    "        break #End of function\n",
    "    count += 1 #Increments by 1"
   ]
  },
  {
   "cell_type": "code",
   "execution_count": null,
   "id": "8dd42d9c-c0d0-44f1-9025-524ab1f1d274",
   "metadata": {},
   "outputs": [],
   "source": []
  }
 ],
 "metadata": {
  "kernelspec": {
   "display_name": "Python 3 (ipykernel)",
   "language": "python",
   "name": "python3"
  },
  "language_info": {
   "codemirror_mode": {
    "name": "ipython",
    "version": 3
   },
   "file_extension": ".py",
   "mimetype": "text/x-python",
   "name": "python",
   "nbconvert_exporter": "python",
   "pygments_lexer": "ipython3",
   "version": "3.11.7"
  }
 },
 "nbformat": 4,
 "nbformat_minor": 5
}
